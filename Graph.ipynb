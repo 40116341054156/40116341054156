{
  "nbformat": 4,
  "nbformat_minor": 0,
  "metadata": {
    "colab": {
      "name": "Graph.ipynb",
      "provenance": []
    },
    "kernelspec": {
      "name": "python3",
      "display_name": "Python 3"
    },
    "language_info": {
      "name": "python"
    }
  },
  "cells": [
    {
      "cell_type": "code",
      "execution_count": 8,
      "metadata": {
        "id": "bkEl_EjizhrO"
      },
      "outputs": [],
      "source": [
        "class Graph():\n",
        "    def __init__(self, n):\n",
        "        self.size = n\n",
        "        self.M = []                                      \n",
        "        #for _ in range(n):\n",
        "        #    self.M.append([0 for i in range(n)])\n",
        "        self.M = [[0] * n for i in range(n)]\n",
        "\n",
        "    def addEdge(self, v1, v2):\n",
        "        self.M[v1][v2] = 1\n",
        "        self.M[v2][v1] = 1\n",
        "\n",
        "    def removeEdge(self, v1, v2):\n",
        "        self.M[v1][v2] = 0\n",
        "        self.M[v2][v1] = 0\n",
        "  \n",
        "    def print_matrix(self):\n",
        "        for row in self.M:\n",
        "            for j in row:\n",
        "                print(j, end='  '),\n",
        "            print()"
      ]
    },
    {
      "cell_type": "code",
      "source": [
        "g = Graph(4)\n",
        "\n",
        "g.addEdge(0, 1)\n",
        "g.addEdge(0, 2)\n",
        "g.addEdge(1, 2)\n",
        "g.addEdge(2, 3)\n",
        "\n",
        "g.print_matrix()"
      ],
      "metadata": {
        "colab": {
          "base_uri": "https://localhost:8080/"
        },
        "id": "MKbwTPLn0M7T",
        "outputId": "fc6caed9-1bf7-45b4-8583-a6151aa15df8"
      },
      "execution_count": 9,
      "outputs": [
        {
          "output_type": "stream",
          "name": "stdout",
          "text": [
            "0  1  1  0  \n",
            "1  0  1  0  \n",
            "1  1  0  1  \n",
            "0  0  1  0  \n"
          ]
        }
      ]
    },
    {
      "cell_type": "code",
      "source": [
        "class Node:\n",
        "    def __init__(self, data):\n",
        "        self.vertex = data\n",
        "        self.next = None \n",
        "\n",
        "class Graph:\n",
        "    def __init__(self, n):\n",
        "        self.V = n\n",
        "        self.graph = [None] * self.V\n",
        " \n",
        "    def add_edge(self, s, d):\n",
        "        n = Node(d)\n",
        "        n.next = self.graph[s]\n",
        "        self.graph[s] = n\n",
        "        m = Node(s)\n",
        "        m.next = self.graph[d]\n",
        "        self.graph[d] = m\n",
        " \n",
        "    def show(self):\n",
        "        for i in range(self.V):\n",
        "            print(i, \": head\", end=' ')\n",
        "            t = self.graph[i]\n",
        "            while t:\n",
        "                print(\"-> {}\".format(t.vertex), end=' ')\n",
        "                t = t.next\n",
        "            print(\" \\n\")"
      ],
      "metadata": {
        "id": "eURQh2SL0hKy"
      },
      "execution_count": 10,
      "outputs": []
    },
    {
      "cell_type": "code",
      "source": [
        "g = Graph(5)\n",
        "\n",
        "g.add_edge(0, 1)\n",
        "g.add_edge(0, 4)\n",
        "g.add_edge(1, 2)\n",
        "g.add_edge(1, 3)\n",
        "g.add_edge(1, 4)\n",
        "g.add_edge(2, 3)\n",
        "g.add_edge(3, 4)\n",
        "\n",
        "g.show()"
      ],
      "metadata": {
        "colab": {
          "base_uri": "https://localhost:8080/"
        },
        "id": "wlTUsGqa0hOE",
        "outputId": "99490051-dbb3-422b-aef3-31211b27ff40"
      },
      "execution_count": 11,
      "outputs": [
        {
          "output_type": "stream",
          "name": "stdout",
          "text": [
            "0 : head -> 4 -> 1  \n",
            "\n",
            "1 : head -> 4 -> 3 -> 2 -> 0  \n",
            "\n",
            "2 : head -> 3 -> 1  \n",
            "\n",
            "3 : head -> 4 -> 2 -> 1  \n",
            "\n",
            "4 : head -> 3 -> 1 -> 0  \n",
            "\n"
          ]
        }
      ]
    }
  ]
}